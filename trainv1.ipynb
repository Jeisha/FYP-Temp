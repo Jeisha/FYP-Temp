{
 "cells": [
  {
   "cell_type": "code",
   "execution_count": 17,
   "metadata": {},
   "outputs": [],
   "source": [
    "from tensorflow.keras.preprocessing.image import ImageDataGenerator\n",
    "from tensorflow.keras.applications import MobileNetV2\n",
    "from tensorflow.keras.layers import AveragePooling2D\n",
    "from tensorflow.keras.layers import Dropout\n",
    "from tensorflow.keras.layers import Flatten\n",
    "from tensorflow.keras.layers import Dense\n",
    "from tensorflow.keras.layers import Input\n",
    "from tensorflow.keras.models import Model\n",
    "from tensorflow.keras.optimizers import Adam\n",
    "from tensorflow.keras.applications.mobilenet_v2 import preprocess_input\n",
    "from tensorflow.keras.preprocessing.image import img_to_array\n",
    "from tensorflow.keras.preprocessing.image import load_img\n",
    "from tensorflow.keras.utils import to_categorical\n",
    "from sklearn.preprocessing import LabelBinarizer\n",
    "from sklearn.model_selection import train_test_split\n",
    "from sklearn.metrics import classification_report\n",
    "from imutils import paths\n",
    "import matplotlib.pyplot as plt\n",
    "import numpy as np\n",
    "import os\n",
    "import seaborn as sns\n",
    "from sklearn.metrics import confusion_matrix\n",
    "from sklearn.metrics import plot_confusion_matrix"
   ]
  },
  {
   "cell_type": "code",
   "execution_count": 2,
   "metadata": {},
   "outputs": [],
   "source": [
    "folder_path = r\"dataset\" #directory for image dataset\n",
    "categories = [\"car\",\"no_car\"] # name of folder for each categories"
   ]
  },
  {
   "cell_type": "code",
   "execution_count": 3,
   "metadata": {},
   "outputs": [],
   "source": [
    "data = [] # array to store image data\n",
    "labels = [] # array to store image labels as in mask or no mask"
   ]
  },
  {
   "cell_type": "code",
   "execution_count": 4,
   "metadata": {},
   "outputs": [],
   "source": [
    "for sub_folders in categories: #loop through each foler\n",
    "    file_location = os.path.join(folder_path, sub_folders) #set path as mask or no_mask according to the value of i\n",
    "    for image_names in os.listdir(file_location): # loop thorough all the images in each file location\n",
    "        img_path = os.path.join (file_location, image_names)#extract the image according to name in the folder \n",
    "        image = load_img(img_path, target_size = (224,224)) #resize the image\n",
    "        image = img_to_array (image) #convert image to array\n",
    "        image = preprocess_input (image) #convert image array to adequaten data type \n",
    "        data.append (image) #push the image array into the data array\n",
    "        labels.append (sub_folders) # push the labels name into the labels array"
   ]
  },
  {
   "cell_type": "code",
   "execution_count": 5,
   "metadata": {},
   "outputs": [],
   "source": [
    "labels = LabelBinarizer().fit_transform(labels) # convert categorical data to numpy array\n",
    "labels = to_categorical(labels)  # convert to numpy array to binary class matrix\n",
    "data = np.array(data, dtype=\"float32\") # convert to numpy array\n",
    "labels = np.array(labels) # convert to numpy array"
   ]
  },
  {
   "cell_type": "code",
   "execution_count": 6,
   "metadata": {},
   "outputs": [],
   "source": [
    "X_train, X_test, y_train, y_test = train_test_split(data, labels,test_size=0.20, stratify=labels, random_state=42)\n",
    "# split data into training and testing dataset at a ratio of 80:20 and dividing the data into subgroups before shuffling the dataset"
   ]
  },
  {
   "cell_type": "code",
   "execution_count": 7,
   "metadata": {},
   "outputs": [],
   "source": [
    "augment_image = ImageDataGenerator (\n",
    "    rotation_range = 20, # rotate random image at 20 degree\n",
    "    zoom_range = 0.15, # zoom in or zoom out image from 0 to 0.15 scale\n",
    "    width_shift_range = 0.2, # horizontally shift random image\n",
    "    height_shift_range = 0.2, # vertically shift random image\n",
    "    shear_range = 0.15, # distord image along an axis\n",
    "    horizontal_flip = True, #randomly flip images upside down\n",
    "    fill_mode = \"nearest\" # replace empty area with nearest pixel value when pixel move outside the image \n",
    ")"
   ]
  },
  {
   "cell_type": "code",
   "execution_count": 8,
   "metadata": {},
   "outputs": [],
   "source": [
    "learn_rate = 0.0001 # assign learning rate\n",
    "epoch = 20 # run 20 passes through the training dataset\n",
    "batch_sizes = 32 # assign 32 number of sample processed before model is updated \n",
    "opt = Adam(learning_rate=learn_rate, decay=learn_rate / 20) # use Adam optimizer with a learning rate of 0.0001"
   ]
  },
  {
   "cell_type": "code",
   "execution_count": 9,
   "metadata": {},
   "outputs": [
    {
     "name": "stdout",
     "output_type": "stream",
     "text": [
      "WARNING:tensorflow:`input_shape` is undefined or non-square, or `rows` is not in [96, 128, 160, 192, 224]. Weights for input shape (224, 224) will be loaded as the default.\n",
      "Downloading data from https://storage.googleapis.com/tensorflow/keras-applications/mobilenet_v2/mobilenet_v2_weights_tf_dim_ordering_tf_kernels_1.0_224_no_top.h5\n",
      "9412608/9406464 [==============================] - 1s 0us/step\n",
      "9420800/9406464 [==============================] - 1s 0us/step\n"
     ]
    }
   ],
   "source": [
    "image_size = (224, 224, 3) # declare size of image\n",
    "input_model = MobileNetV2(weights=\"imagenet\", include_top=False,input_tensor=Input(shape=image_size)) # construct the model"
   ]
  },
  {
   "cell_type": "code",
   "execution_count": 10,
   "metadata": {},
   "outputs": [],
   "source": [
    "output_model = input_model.output # duplicate the output of model\n",
    "output_model = AveragePooling2D(pool_size=(7, 7))(output_model) # calculate average for each patch of feature map\n",
    "output_model = Flatten(name=\"flatten\")(output_model) # convert into single dimension \n",
    "output_model = Dense(128, activation=\"relu\")(output_model) # use relu activation function\n",
    "output_model = Dropout(0.5)(output_model) # randomly set input unit to 0.5\n",
    "output_model = Dense(2, activation=\"softmax\")(output_model) # use softmax activation function"
   ]
  },
  {
   "cell_type": "code",
   "execution_count": 11,
   "metadata": {},
   "outputs": [],
   "source": [
    "input_model.trainable = False # freeze the convolutional layers to use the base model as a feature extractor\n",
    "model = Model(inputs=input_model.input, outputs=output_model) # place feature class on top of input_model\n",
    "model.compile(loss=\"binary_crossentropy\", optimizer=opt,metrics=[\"accuracy\"]) # compile the model using the declared variables"
   ]
  },
  {
   "cell_type": "code",
   "execution_count": 12,
   "metadata": {},
   "outputs": [
    {
     "name": "stdout",
     "output_type": "stream",
     "text": [
      "Epoch 1/20\n",
      "18/18 [==============================] - 17s 407ms/step - loss: 0.6501 - accuracy: 0.6728 - val_loss: 0.3740 - val_accuracy: 0.9379\n",
      "Epoch 2/20\n",
      "18/18 [==============================] - 6s 325ms/step - loss: 0.4133 - accuracy: 0.8647 - val_loss: 0.2605 - val_accuracy: 0.9448\n",
      "Epoch 3/20\n",
      "18/18 [==============================] - 6s 315ms/step - loss: 0.3105 - accuracy: 0.9068 - val_loss: 0.2022 - val_accuracy: 0.9448\n",
      "Epoch 4/20\n",
      "18/18 [==============================] - 7s 380ms/step - loss: 0.2742 - accuracy: 0.9177 - val_loss: 0.1800 - val_accuracy: 0.9586\n",
      "Epoch 5/20\n",
      "18/18 [==============================] - 7s 380ms/step - loss: 0.2374 - accuracy: 0.9287 - val_loss: 0.1568 - val_accuracy: 0.9586\n",
      "Epoch 6/20\n",
      "18/18 [==============================] - 6s 347ms/step - loss: 0.2227 - accuracy: 0.9360 - val_loss: 0.1490 - val_accuracy: 0.9586\n",
      "Epoch 7/20\n",
      "18/18 [==============================] - 8s 420ms/step - loss: 0.1831 - accuracy: 0.9415 - val_loss: 0.1296 - val_accuracy: 0.9586\n",
      "Epoch 8/20\n",
      "18/18 [==============================] - 6s 333ms/step - loss: 0.1636 - accuracy: 0.9452 - val_loss: 0.1258 - val_accuracy: 0.9586\n",
      "Epoch 9/20\n",
      "18/18 [==============================] - 6s 301ms/step - loss: 0.1873 - accuracy: 0.9342 - val_loss: 0.1320 - val_accuracy: 0.9586\n",
      "Epoch 10/20\n",
      "18/18 [==============================] - 5s 297ms/step - loss: 0.1485 - accuracy: 0.9543 - val_loss: 0.1158 - val_accuracy: 0.9586\n",
      "Epoch 11/20\n",
      "18/18 [==============================] - 6s 323ms/step - loss: 0.1571 - accuracy: 0.9433 - val_loss: 0.1182 - val_accuracy: 0.9724\n",
      "Epoch 12/20\n",
      "18/18 [==============================] - 6s 319ms/step - loss: 0.1540 - accuracy: 0.9506 - val_loss: 0.1185 - val_accuracy: 0.9724\n",
      "Epoch 13/20\n",
      "18/18 [==============================] - 6s 321ms/step - loss: 0.1497 - accuracy: 0.9543 - val_loss: 0.1137 - val_accuracy: 0.9655\n",
      "Epoch 14/20\n",
      "18/18 [==============================] - 6s 313ms/step - loss: 0.1575 - accuracy: 0.9470 - val_loss: 0.1101 - val_accuracy: 0.9655\n",
      "Epoch 15/20\n",
      "18/18 [==============================] - 6s 313ms/step - loss: 0.1254 - accuracy: 0.9671 - val_loss: 0.1132 - val_accuracy: 0.9655\n",
      "Epoch 16/20\n",
      "18/18 [==============================] - 6s 314ms/step - loss: 0.1341 - accuracy: 0.9525 - val_loss: 0.1086 - val_accuracy: 0.9655\n",
      "Epoch 17/20\n",
      "18/18 [==============================] - 6s 337ms/step - loss: 0.1415 - accuracy: 0.9462 - val_loss: 0.1088 - val_accuracy: 0.9655\n",
      "Epoch 18/20\n",
      "18/18 [==============================] - 6s 324ms/step - loss: 0.1391 - accuracy: 0.9525 - val_loss: 0.1113 - val_accuracy: 0.9586\n",
      "Epoch 19/20\n",
      "18/18 [==============================] - 6s 324ms/step - loss: 0.1465 - accuracy: 0.9543 - val_loss: 0.1112 - val_accuracy: 0.9655\n",
      "Epoch 20/20\n",
      "18/18 [==============================] - 6s 316ms/step - loss: 0.1289 - accuracy: 0.9598 - val_loss: 0.1125 - val_accuracy: 0.9655\n"
     ]
    }
   ],
   "source": [
    "cnn_model = model.fit(\n",
    "    augment_image.flow(X_train, y_train), # fit in distorted data into the model\n",
    "    steps_per_epoch=len(X_train) // batch_sizes, #divide training dataset based on batch size\n",
    "    validation_data=(X_test, y_test), #divide validation dataset based on batch size\n",
    "    validation_steps=len(X_test) // batch_sizes,#divide validation dataset based on batch size \n",
    "    epochs=epoch) #declare number of epochs"
   ]
  },
  {
   "cell_type": "code",
   "execution_count": 13,
   "metadata": {},
   "outputs": [
    {
     "data": {
      "image/png": "[encoded data removed]",
      "text/plain": [
       "<Figure size 576x576 with 2 Axes>"
      ]
     },
     "metadata": {
      "needs_background": "light"
     },
     "output_type": "display_data"
    }
   ],
   "source": [
    "acc = cnn_model.history['accuracy'] # assign accuracy to variable \n",
    "val_acc = cnn_model.history['val_accuracy'] # assign validation accuracy to variable \n",
    "loss = cnn_model.history['loss'] # assign training loss to variable \n",
    "val_loss = cnn_model.history['val_loss'] # assign validation loss to variable \n",
    "epochs_range = range(epoch) #set epoch range\n",
    "plt.figure(figsize=(8, 8)) # set chart size\n",
    "plt.subplot(1, 2, 1) # declare subplot\n",
    "plt.plot(epochs_range, acc, label='Training Accuracy') # plot training accuracy\n",
    "plt.plot(epochs_range, val_acc, label='Validation Accuracy') # plot validation accuracy\n",
    "plt.legend(loc='lower right') #place legend on bottom right corner\n",
    "plt.title('Training and Validation Accuracy') # name the first chart\n",
    "plt.subplot(1, 2, 2) # create a subplot\n",
    "plt.plot(epochs_range, loss, label='Training Loss' )# plot training loss\n",
    "plt.plot(epochs_range, val_loss, label='Validation Loss') # plot validation loss\n",
    "plt.legend(loc='upper right') #place legend on top right corner\n",
    "plt.title('Training and Validation Loss') # name the first chart\n",
    "plt.show() #show the charts"
   ]
  },
  {
   "cell_type": "code",
   "execution_count": 14,
   "metadata": {},
   "outputs": [],
   "source": [
    "rounded_predictions = np.argmax(model.predict(X_test), axis=1) # round off prediction values\n",
    "rounded_labels = np.argmax(y_test, axis=1) # round off test dataset values "
   ]
  },
  {
   "cell_type": "code",
   "execution_count": 18,
   "metadata": {},
   "outputs": [],
   "source": [
    "cm = confusion_matrix(rounded_labels, rounded_predictions)"
   ]
  },
  {
   "cell_type": "code",
   "execution_count": 24,
   "metadata": {},
   "outputs": [
    {
     "data": {
      "image/png": "[encoded data removed]",
      "text/plain": [
       "<Figure size 432x288 with 2 Axes>"
      ]
     },
     "metadata": {
      "needs_background": "light"
     },
     "output_type": "display_data"
    }
   ],
   "source": [
    "ax = sns.heatmap(cm, annot=True, cmap='Blues',fmt='g') # setup chart\n",
    "ax.set_title('Confusion Matrix'); # set chart title\n",
    "ax.set_xlabel('\\nPredicted Values') #set x axis labels \n",
    "ax.set_ylabel('Actual Values '); #set y axis labels\n",
    "ax.xaxis.set_ticklabels(['Car','No Car']) #set labels \n",
    "ax.yaxis.set_ticklabels(['Car','No Car']) #set labels \n",
    "plt.show() #display the chart"
   ]
  },
  {
   "cell_type": "code",
   "execution_count": 25,
   "metadata": {},
   "outputs": [],
   "source": [
    "model.save(\"mask_detector.model\", save_format=\"h5\") #save model in h5 format"
   ]
  },
  {
   "cell_type": "code",
   "execution_count": 26,
   "metadata": {},
   "outputs": [
    {
     "name": "stdout",
     "output_type": "stream",
     "text": [
      "Package    Version"
     ]
    },
    {
     "name": "stderr",
     "output_type": "stream",
     "text": [
      "WARNING: You are using pip version 22.0.4; however, version 22.1.2 is available.\n",
      "You should consider upgrading via the 'C:\\Python310\\python.exe -m pip install --upgrade pip' command.\n"
     ]
    },
    {
     "name": "stdout",
     "output_type": "stream",
     "text": [
      "\n",
      "---------- -------\n",
      "pip        22.0.4\n",
      "pywin32    304\n",
      "setuptools 58.1.0\n",
      "wcwidth    0.2.5\n"
     ]
    }
   ],
   "source": []
  },
  {
   "cell_type": "code",
   "execution_count": null,
   "metadata": {},
   "outputs": [],
   "source": []
  }
 ],
 "metadata": {
  "kernelspec": {
   "display_name": "Python 3 (ipykernel)",
   "language": "python",
   "name": "python3"
  },
  "language_info": {
   "codemirror_mode": {
    "name": "ipython",
    "version": 3
   },
   "file_extension": ".py",
   "mimetype": "text/x-python",
   "name": "python",
   "nbconvert_exporter": "python",
   "pygments_lexer": "ipython3",
   "version": "3.9.11"
  },
  "vscode": {
   "interpreter": {
    "hash": "63d2a301f8e67a2fef2437a218fa5a1162237e9cf77567d0bc29bb7e03972c71"
   }
  }
 },
 "nbformat": 4,
 "nbformat_minor": 2
}
