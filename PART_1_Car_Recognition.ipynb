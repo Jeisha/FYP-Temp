{
  "nbformat": 4,
  "nbformat_minor": 0,
  "metadata": {
    "colab": {
      "name": "PART 1. Car Recognition.ipynb",
      "provenance": [],
      "collapsed_sections": [],
      "mount_file_id": "1eCs5D_HyM8JZevbizkVNlvKEj1-QF8cK",
      "authorship_tag": "ABX9TyO5u9h7u5xd99WEyPaXhnlX",
      "include_colab_link": true
    },
    "kernelspec": {
      "name": "python3",
      "display_name": "Python 3"
    },
    "language_info": {
      "name": "python"
    }
  },
  "cells": [
    {
      "cell_type": "markdown",
      "metadata": {
        "id": "view-in-github",
        "colab_type": "text"
      },
      "source": [
        "<a href=\"https://colab.research.google.com/github/Jeisha/FYP-Temp/blob/main/PART_1_Car_Recognition.ipynb\" target=\"_parent\"><img src=\"https://colab.research.google.com/assets/colab-badge.svg\" alt=\"Open In Colab\"/></a>"
      ]
    },
    {
      "cell_type": "code",
      "source": [
        "from google.colab import drive\n",
        "drive.mount('/content/drive')"
      ],
      "metadata": {
        "id": "IcIur8YTA92W",
        "colab": {
          "base_uri": "https://localhost:8080/"
        },
        "outputId": "af4c0d3c-c1e6-4340-f304-99e0f33fcbed"
      },
      "execution_count": null,
      "outputs": [
        {
          "output_type": "stream",
          "name": "stdout",
          "text": [
            "Drive already mounted at /content/drive; to attempt to forcibly remount, call drive.mount(\"/content/drive\", force_remount=True).\n"
          ]
        }
      ]
    },
    {
      "cell_type": "code",
      "execution_count": null,
      "metadata": {
        "id": "_7jf1YiF8e8Z"
      },
      "outputs": [],
      "source": [
        "import os\n",
        "os.chdir('drive/MyDrive/FYP')"
      ]
    },
    {
      "cell_type": "code",
      "source": [
        "from tensorflow.keras.models import load_model\n",
        "from tensorflow.keras.applications.mobilenet_v2 import preprocess_input\n",
        "from tensorflow.keras.preprocessing.image import img_to_array\n",
        "import numpy as np\n",
        "import glob\n",
        "import cv2\n",
        "import glob\n",
        "%matplotlib inline"
      ],
      "metadata": {
        "id": "jbAN72ml9Jr2"
      },
      "execution_count": null,
      "outputs": []
    },
    {
      "cell_type": "code",
      "source": [
        "car_detect = load_model(os.path.join('Model','car_detector.h5'))\n",
        "paths = {\n",
        "    'IMAGE_WORK_PATH': os.path.join('image_work'),\n",
        "    'CAR_DETECTED_PATH':os.path.join('image_work','CAR_DETECTED')\n",
        " }"
      ],
      "metadata": {
        "id": "-Bz1S5369ZiZ"
      },
      "execution_count": null,
      "outputs": []
    },
    {
      "cell_type": "code",
      "source": [
        "def rescale_frame_car_detection(frame):\n",
        "    width = 500\n",
        "    height = 500\n",
        "    dim = (width, height)\n",
        "    return cv2.resize(frame, dim, interpolation =cv2.INTER_AREA)[200:350,170:370]"
      ],
      "metadata": {
        "id": "NU0khVswAQ9N"
      },
      "execution_count": null,
      "outputs": []
    },
    {
      "cell_type": "code",
      "source": [
        "cap = []\n",
        "for i in glob.glob(os.path.join(os.getcwd(),'Video','*.mp4')):\n",
        "  cap.append(cv2.VideoCapture(i))"
      ],
      "metadata": {
        "id": "5jpN8-Mt95Ss"
      },
      "execution_count": null,
      "outputs": []
    },
    {
      "cell_type": "code",
      "source": [
        "car_no = 0\n",
        "count = 0\n",
        "for vid in range(len(cap)):\n",
        "    while True:\n",
        "        ret,frame = cap[vid].read()\n",
        "        if ret:\n",
        "            if count %10 == 0:\n",
        "                cars = []\n",
        "                car_detection = rescale_frame_car_detection(frame)\n",
        "                car = cv2.cvtColor(car_detection, cv2.COLOR_BGR2RGB) #convert to RGB Channel\n",
        "                car = cv2.resize(car, (224, 224)) # resize image\n",
        "                car = img_to_array(car) #convert image to array\n",
        "                car = preprocess_input(car) # preprocess the array\n",
        "                cars.append(car)\n",
        "                if len(cars) > 0:\n",
        "                    cars = np.array(cars, dtype=\"float32\") #convert array to float \n",
        "                    pred = car_detect.predict(cars,batch_size=32)\n",
        "                car, no_car = pred[0][0],pred[0][1]\n",
        "                if car > no_car:\n",
        "                    img_item = os.path.join(paths['CAR_DETECTED_PATH'],f'car-{car_no:05d}.png')\n",
        "                    cv2.imwrite(img_item, frame)\n",
        "                    car_no +=1\n",
        "            count += 1\n",
        "        else:\n",
        "            cap[vid].release()\n",
        "            break"
      ],
      "metadata": {
        "id": "Ibbwgptb-ePN"
      },
      "execution_count": null,
      "outputs": []
    },
    {
      "cell_type": "code",
      "source": [
        ""
      ],
      "metadata": {
        "id": "B5n1HMLW_XEs"
      },
      "execution_count": null,
      "outputs": []
    }
  ]
}