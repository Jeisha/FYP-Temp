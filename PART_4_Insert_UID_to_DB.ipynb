{
  "nbformat": 4,
  "nbformat_minor": 0,
  "metadata": {
    "colab": {
      "name": "PART 4. Insert UID to DB.ipynb",
      "provenance": [],
      "collapsed_sections": [],
      "authorship_tag": "ABX9TyPP+TZxM2S3yIQGDDpDNIqN",
      "include_colab_link": true
    },
    "kernelspec": {
      "name": "python3",
      "display_name": "Python 3"
    },
    "language_info": {
      "name": "python"
    }
  },
  "cells": [
    {
      "cell_type": "markdown",
      "metadata": {
        "id": "view-in-github",
        "colab_type": "text"
      },
      "source": [
        "<a href=\"https://colab.research.google.com/github/Jeisha/FYP-Temp/blob/main/PART_4_Insert_UID_to_DB.ipynb\" target=\"_parent\"><img src=\"https://colab.research.google.com/assets/colab-badge.svg\" alt=\"Open In Colab\"/></a>"
      ]
    },
    {
      "cell_type": "code",
      "source": [
        "from google.colab import drive\n",
        "drive.mount('/content/drive')\n",
        "import os\n",
        "os.chdir('drive/MyDrive/FYP')"
      ],
      "metadata": {
        "colab": {
          "base_uri": "https://localhost:8080/"
        },
        "id": "9qfbuWurr_Oj",
        "outputId": "b3d40c7d-9578-4963-c198-4ac113b89d91"
      },
      "execution_count": null,
      "outputs": [
        {
          "output_type": "stream",
          "name": "stdout",
          "text": [
            "Mounted at /content/drive\n"
          ]
        }
      ]
    },
    {
      "cell_type": "code",
      "execution_count": null,
      "metadata": {
        "id": "wSGqcgHACUg2",
        "colab": {
          "base_uri": "https://localhost:8080/"
        },
        "outputId": "47f805ff-ea6f-49fb-9823-0615c772d061"
      },
      "outputs": [
        {
          "output_type": "stream",
          "name": "stdout",
          "text": [
            "Looking in indexes: https://pypi.org/simple, https://us-python.pkg.dev/colab-wheels/public/simple/\n",
            "Collecting db-sqlite3\n",
            "  Downloading db-sqlite3-0.0.1.tar.gz (1.4 kB)\n",
            "Collecting db\n",
            "  Downloading db-0.1.1.tar.gz (3.4 kB)\n",
            "Collecting antiorm\n",
            "  Downloading antiorm-1.2.1.tar.gz (171 kB)\n",
            "\u001b[K     |████████████████████████████████| 171 kB 5.0 MB/s \n",
            "\u001b[?25hBuilding wheels for collected packages: db-sqlite3, db, antiorm\n",
            "  Building wheel for db-sqlite3 (setup.py) ... \u001b[?25l\u001b[?25hdone\n",
            "  Created wheel for db-sqlite3: filename=db_sqlite3-0.0.1-py3-none-any.whl size=1794 sha256=dca209aebe6e58c59cded5d5895dd1751b168ae09a8f9cdb9958a83a32df84bc\n",
            "  Stored in directory: /root/.cache/pip/wheels/02/38/d5/2f54461050571bf5330fee2a37ab1c9b5e7540b0572f1acdab\n",
            "  Building wheel for db (setup.py) ... \u001b[?25l\u001b[?25hdone\n",
            "  Created wheel for db: filename=db-0.1.1-py3-none-any.whl size=3895 sha256=a6a328590cbdf7ec5e83bc6b5efdcb7ffe0a320f5128fd9d6a9c2646e5815899\n",
            "  Stored in directory: /root/.cache/pip/wheels/8e/97/82/741d2b360507411ec233d0280d7371faa94b03bde834e4a9be\n",
            "  Building wheel for antiorm (setup.py) ... \u001b[?25l\u001b[?25hdone\n",
            "  Created wheel for antiorm: filename=antiorm-1.2.1-py3-none-any.whl size=31679 sha256=72c33962360afffb056b0bd067cd1db77459806199ce2650b8da6e1543a502a2\n",
            "  Stored in directory: /root/.cache/pip/wheels/c5/43/70/e9729370cfff40c49d3e3d05377d54b3ecd71f64e62341ea80\n",
            "Successfully built db-sqlite3 db antiorm\n",
            "Installing collected packages: antiorm, db, db-sqlite3\n",
            "Successfully installed antiorm-1.2.1 db-0.1.1 db-sqlite3-0.0.1\n"
          ]
        }
      ],
      "source": [
        "!pip install db-sqlite3"
      ]
    },
    {
      "cell_type": "code",
      "source": [
        "import sqlite3\n",
        "import os\n",
        "import sys\n",
        "import numpy as np\n",
        "import pandas as pd"
      ],
      "metadata": {
        "id": "Drm4iiBTq6im"
      },
      "execution_count": null,
      "outputs": []
    },
    {
      "cell_type": "code",
      "source": [
        "db_path = os.path.join('Database','Database.db')"
      ],
      "metadata": {
        "id": "TeyXiEtRq7hw"
      },
      "execution_count": null,
      "outputs": []
    },
    {
      "cell_type": "code",
      "source": [
        "def insert_to_loggate_db(platenum):\n",
        "  mydb = sqlite3.connect(db_path)\n",
        "  cmd = \"insert into registered(plate) values('{}')\".format(platenum)\n",
        "  mydb.execute(cmd)\n",
        "  mydb.commit()\n",
        "\n",
        "def check_registered_db(platenum):\n",
        "  mydb = sqlite3.connect(db_path)\n",
        "  cmd = \"SELECT * FROM registered\"\n",
        "  df = pd.read_sql_query(cmd, mydb)\n",
        "  platenums = df.plate\n",
        "  if platenum in list(platenums):\n",
        "    return True\n",
        "  else:\n",
        "    return False"
      ],
      "metadata": {
        "id": "PTQrA2--rYEO"
      },
      "execution_count": null,
      "outputs": []
    },
    {
      "cell_type": "code",
      "source": [
        "filename_path = os.path.join('Database','plate_record.txt')\n",
        "numbers = []\n",
        "with open(filename_path,'r') as f:\n",
        "    lines = f.readlines()\n",
        "    for i in lines:\n",
        "        numbers.append(i.strip(' \\n'))\n",
        "\n",
        "for i in numbers:\n",
        "    check = check_registered_db(i)\n",
        "    if not check:\n",
        "        insert_to_loggate_db(i)\n",
        "    else:\n",
        "        print(f'Plate Number {i} already in the system.')"
      ],
      "metadata": {
        "colab": {
          "base_uri": "https://localhost:8080/"
        },
        "id": "hI5SPX2Fwc9A",
        "outputId": "c774894d-5b1d-4e74-815f-8d0a9ef2adcc"
      },
      "execution_count": null,
      "outputs": [
        {
          "output_type": "stream",
          "name": "stdout",
          "text": [
            "Plate Number WSQ2505 already in the system.\n",
            "Plate Number RM3948 already in the system.\n"
          ]
        }
      ]
    },
    {
      "cell_type": "code",
      "source": [
        ""
      ],
      "metadata": {
        "id": "xQcCPvYKyJcU"
      },
      "execution_count": null,
      "outputs": []
    }
  ]
}